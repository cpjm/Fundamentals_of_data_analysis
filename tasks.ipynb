{
 "cells": [
  {
   "cell_type": "markdown",
   "metadata": {},
   "source": [
    "# Fundamentals of Data Analysis\n",
    "# Tasks\n",
    "\n",
    "**Ciaran Moran**\n",
    "\n",
    "***\n"
   ]
  },
  {
   "cell_type": "markdown",
   "metadata": {},
   "source": [
    "### 1 - The Collatz Conjecture\n",
    "\n",
    "https://en.wikipedia.org/wiki/Collatz_conjecture\n",
    "\n",
    "Program to run all nubers 1 to 10000 though the Collztz Conjecture.\n",
    "\n",
    "The mathematical formula being:-\n",
    "$$ \n",
    "f(x) =  \n",
    "\\begin{cases}\n",
    "    \\\\\n",
    "    \\ x \\div 2  & if \\hspace{0.1cm} x \\hspace{0.1cm} is \\hspace{0.1cm} even  \n",
    "    \\\\[3ex]\n",
    "    \\ 3x + 1  & otherwise\n",
    "\\end{cases}\n",
    "$$\n",
    "\n",
    "\n",
    "For the above latex formula I figured it out using the following websites - \n",
    "\n",
    "https://linuxhint.com/use-latex-jupyter-notebook/\n",
    "\n",
    "https://tex.stackexchange.com/questions/670525/align-math-expressions-next-to-the-bracket\n",
    "\n",
    "https://www.overleaf.com/learn/latex/Line_breaks_and_blank_spaces#Horizontal_blank_spaces\n",
    "\n",
    "And a direct Google for \"latex division symbol\"\n"
   ]
  },
  {
   "cell_type": "code",
   "execution_count": null,
   "metadata": {},
   "outputs": [],
   "source": [
    "def f(x):\n",
    "    # If x is even, then divide by 2\n",
    "    if x % 2 == 0:\n",
    "        return x // 2\n",
    "    else:\n",
    "        return (3 * x) + 1\n",
    "    "
   ]
  },
  {
   "cell_type": "markdown",
   "metadata": {},
   "source": [
    "## Collatz Function\n",
    "\n",
    "The is where we apply the Collatz code for the mathematical function\n",
    "\n",
    "I have printed out the value of 'x' to ensure I am testing everything from 1 to 10000 inclusive.\n",
    "\n",
    "For this I only print if less than 10 or greater than 9990 for efficiency purposes."
   ]
  },
  {
   "cell_type": "code",
   "execution_count": null,
   "metadata": {},
   "outputs": [],
   "source": [
    "def collatz(x):\n",
    "    print(f'>>> Testing number {x}')\n",
    "    while x != 1:\n",
    "        print(x, end=', ')\n",
    "        x = f(x)\n",
    "    print(x)\n"
   ]
  },
  {
   "cell_type": "markdown",
   "metadata": {},
   "source": [
    "### The Loop\n",
    "Next loop from 1 - 10000.\n",
    "\n",
    "Loops start at 0, so there are a number of options for the loop.\n",
    "\n",
    "We could loop 1 - 10001, or 0-10000 + 1 i.e. i+1.\n",
    "\n",
    "Personally I prefer using 0-10000 + 1.\n"
   ]
  },
  {
   "cell_type": "code",
   "execution_count": null,
   "metadata": {},
   "outputs": [],
   "source": [
    "for i in range(10000):\n",
    "    collatz(i+1)"
   ]
  },
  {
   "cell_type": "markdown",
   "metadata": {},
   "source": [
    "As observed in the output above, all numbers 1-10000 run through the Collatz function results in an ending number of 1. Therefore in this scanario the Collatz function is proved to be true.\n",
    "\n",
    "*** "
   ]
  },
  {
   "cell_type": "markdown",
   "metadata": {},
   "source": [
    "## 2 - Penguin data set\n",
    "\n",
    "Give an overview of the famous penguins data set,2 explaining 2 mwaskom/seaborn-data: Data repository\n",
    "for seaborn examples. Aug. 30, 2023. url:\n",
    "https : / / github . com / mwaskom /\n",
    "seaborn - data / blob / master /\n",
    "penguins.csv (visited on 08/30/2023).\n",
    "the types of variables it contains. Suggest the types of variables\n",
    "that should be used to model them in Python, explaining your\n",
    "rationale."
   ]
  },
  {
   "cell_type": "markdown",
   "metadata": {},
   "source": [
    "**References used for understanding the Penguin Data Set**\n",
    "\n",
    "https://www.kaggle.com/code/parulpandey/penguin-dataset-the-new-iris\n",
    "\n",
    "https://www.robots.ox.ac.uk/~vgg/data/penguins/\n"
   ]
  },
  {
   "cell_type": "code",
   "execution_count": null,
   "metadata": {},
   "outputs": [],
   "source": [
    "import matplotlib.pyplot as plt \n",
    "import random\n",
    "import datetime\n",
    "import pandas as pd \n",
    "import seaborn as sns\n",
    "import numpy as np\n",
    "\n",
    "df = pd.read_csv('data/penguins/penguins.csv')\n",
    "print(\"Head...\")\n",
    "print(df.head())\n",
    "print()\n",
    "print(\"Describe...\")\n",
    "df.describe\n",
    "\n"
   ]
  },
  {
   "cell_type": "markdown",
   "metadata": {},
   "source": [
    "***These are the 3 types of penguins included in the data set***\n",
    "1. Chinstrap\n",
    "2. Gentoo\n",
    "3. Adelie\n",
    "\n",
    "\n",
    "![3 3 penguin types in the penguin data set](https://allisonhorst.github.io/palmerpenguins/reference/figures/lter_penguins.png)\n",
    "\n"
   ]
  },
  {
   "cell_type": "markdown",
   "metadata": {},
   "source": [
    "### 2. Give an overview of the famous penguins data set(2) explaining the types of variables it contains. Suggest the types of variables that should be used to model them in Python, explaining your rationale.\n",
    "\n",
    "Websites referenced.\n",
    " - https://www.kaggle.com/code/parulpandey/penguin-dataset-the-new-iris\n",
    " - https://www.kaggle.com/datasets/parulpandey/palmer-archipelago-antarctica-penguin-data\n",
    " - https://towardsdatascience.com/penguins-dataset-overview-iris-alternative-9453bb8c8d95\n",
    " - https://www.analyticsvidhya.com/blog/2022/04/data-exploration-and-visualisation-using-palmer-penguins-dataset/\n",
    "- https://www.w3schools.com/python/python_datatypes.asp\n",
    "\n",
    " \n"
   ]
  },
  {
   "cell_type": "markdown",
   "metadata": {},
   "source": [
    "The penguin data set contains 7 variables.\n",
    "1. species\n",
    "    - Chinstrap\n",
    "    - Gentoo\n",
    "    - Adelie\n",
    "2. island\n",
    "    - this is the particular island that the data was captured on\n",
    "    - the islands are in the Palmer Archipelago in Antarctica\n",
    "    - 3 islands are in the data set\n",
    "        - Dream\n",
    "        - Torgersen\n",
    "        - Biscoe\n",
    "3. bill_length_mm\n",
    "    - the length of the penguin's bill, measured in mm\n",
    "4. bill_depth_mm\n",
    "    - the depth of the penguin's bill, measured in mm\n",
    "5. flipper_length_mm\n",
    "    - the length of the penguin's flipper, measured in mm\n",
    "6. body_mass_g\n",
    "    - the body mass of the penguin, measured in grams\n",
    "7. sex\n",
    "    - MALE / FEMALE\n",
    "\n",
    "### Suggested Python data types \n",
    "\n",
    "| Variable | Suggested Python data type | Reason |\n",
    "| ----------- | ----------- | ----------- |\n",
    "| species | string | this is a text field for the species of the penguin e.g. Chinstrap |\n",
    "| island | string | this is a text field for the name of the island e.g. Dream  |\n",
    "| bill_length_mm | float64 | this column contains floating point values e.g. 39.1 |\n",
    "| bill_depth_mm | float64 | this column contains floating point values e.g. 18.7 |\n",
    "| flipper_length_mm | int | this column contains whole integer numbers e.g. 181 |\n",
    "| body_mass_g | int |  this column contains whole integer numbers e.g. 3750  |\n",
    "| sex | string | this is a text field for the sex of the penguin e.g. MALE / FEMALE   |\n",
    "\n",
    "\n",
    "\n",
    "\n"
   ]
  },
  {
   "cell_type": "markdown",
   "metadata": {},
   "source": [
    "#### Data types as per a dataframe dtypes\n",
    "\n",
    "Ref https://pandas.pydata.org/pandas-docs/stable/reference/api/pandas.DataFrame.dtypes.html"
   ]
  },
  {
   "cell_type": "code",
   "execution_count": null,
   "metadata": {},
   "outputs": [],
   "source": [
    "df.dtypes"
   ]
  },
  {
   "cell_type": "markdown",
   "metadata": {},
   "source": [
    "### 3. For each of the variables in the penguins data set(3) suggest what probability distribution from the numpy random distributions list is the most appropriate to model the variable.\n",
    "\n",
    "References used\n",
    " - https://numpy.org/doc/stable/reference/random/index.html#random-sampling-numpy-random\n",
    " - https://numpy.org/doc/stable/reference/random/index.html#module-numpy.random\n",
    " - https://numpy.org/doc/stable/reference/random/generated/numpy.random.randint.html\n",
    " - https://numpy.org/doc/stable/reference/routines.html\n",
    " - https://numpy.org/doc/stable/reference/random/generated/numpy.random.normal.html#numpy-random-normal\n",
    " - https://numpy.org/doc/stable/reference/random/generated/numpy.random.choice.html\n",
    " - https://stackoverflow.com/questions/31037298/pandas-get-column-average-mean\n",
    " - https://datascienceparichay.com/article/pandas-get-standard-deviation-of-one-or-more-column\n",
    "\n",
    "\n",
    " "
   ]
  },
  {
   "cell_type": "markdown",
   "metadata": {},
   "source": [
    "For the **float** variables:-\n",
    "\n",
    "- bill_length_mm\n",
    "- bill_depth_mm\n",
    "\n",
    "\n",
    "A suitable distribution would be **numpy.random.normal**\n",
    "\n",
    "\n",
    "This will *random samples from a normal (Gaussian) distribution*. \n",
    "It takes in floats as parameters.\n",
    "\n",
    "*random.normal(loc=0.0, scale=1.0, size=None)*\n",
    "* loc - float or array_like of floats\n",
    "* scale - float or array_like of floats\n",
    "* size - int or tuple of ints, optional\n"
   ]
  },
  {
   "cell_type": "code",
   "execution_count": null,
   "metadata": {},
   "outputs": [],
   "source": [
    "# receiving some user wraning messages, so i found this to prevent them being displayed\n",
    "# https://stackoverflow.com/questions/9134795/how-to-get-rid-of-specific-warning-messages-in-python-while-keeping-all-other-wa\n",
    "import warnings\n",
    "warnings.simplefilter(\"ignore\", category=Warning)\n"
   ]
  },
  {
   "cell_type": "code",
   "execution_count": null,
   "metadata": {},
   "outputs": [],
   "source": [
    "# Example code.\n",
    "# References\n",
    "# https://numpy.org/doc/stable/reference/random/generated/numpy.random.normal.html#numpy-random-normal\n",
    "# https://stackoverflow.com/questions/31037298/pandas-get-column-average-mean\n",
    "# https://datascienceparichay.com/article/pandas-get-standard-deviation-of-one-or-more-column\n",
    "\n",
    "\n",
    "# Generate a random float between min and max for column bill_length_mm\n",
    "random_bill_length_mm = np.random.normal(df.loc[:, 'bill_length_mm'].mean(), df['bill_length_mm'].std(), 1)\n",
    "print(\"Random Float :\", random_bill_length_mm[0])\n",
    "print(\"Random Float Rounded: \",int(np.round(random_bill_length_mm*100))/100)"
   ]
  },
  {
   "cell_type": "markdown",
   "metadata": {},
   "source": [
    "For the **integer** variables:-\n",
    "\n",
    "- flipper_length_mm\n",
    "- body_mass_g\n",
    "\n",
    "A suitable distribution would be **numpy.random.randint**\n",
    "\n",
    "This will *return random integers from the discrete uniform distribution of the specified dtype in the “half-open” interval*."
   ]
  },
  {
   "cell_type": "code",
   "execution_count": null,
   "metadata": {},
   "outputs": [],
   "source": [
    "# Example code.\n",
    "# Generate a random integer between min and max for column flipper_length_mm\n",
    "random_bill_length_mm = np.random.randint(df['flipper_length_mm'].min(), df['flipper_length_mm'].max()+1)\n",
    "print(\"Random integer value for flipper_length_mm :\", random_bill_length_mm)"
   ]
  },
  {
   "cell_type": "markdown",
   "metadata": {},
   "source": [
    "For the **string** variables:-\n",
    "\n",
    "- species\n",
    "- island\n",
    "- sex\n",
    "\n",
    "A suitable distribution would be **numpy.random.choice**\n",
    "Although other distributions would also work \n",
    "e.g. normal distribution numpy.random.normal or uniform distribution numpy.random.uniform\n",
    "\n",
    "https://numpy.org/doc/stable/reference/random/generated/numpy.random.choice.html\n",
    "\n",
    "*Parameters: 1-D array-like or int*\n",
    "*If an ndarray, a random sample is generated from its elements*\n",
    "\n",
    "In other words, supply a list of valid strings to use, and we can randomly select one of those"
   ]
  },
  {
   "cell_type": "code",
   "execution_count": null,
   "metadata": {},
   "outputs": [],
   "source": [
    "# Example code.\n",
    "# Generate a random string from distinct column string values for column species\n",
    "# Referenced websites\n",
    "# https://stackoverflow.com/questions/47368962/unique-strings-in-a-pandas-dataframe\n",
    "species_distinct_arr = np.unique(np.concatenate(df['species'].str.split(';\\s*').values))\n",
    "random_species = np.random.choice(species_distinct_arr, 1)\n",
    "print(\"Random string value for species :\", random_species[0])"
   ]
  },
  {
   "cell_type": "markdown",
   "metadata": {},
   "source": [
    "### 4. Suppose you are flipping two coins, each with a probability p of giving heads. Plot the entropy of the total number of heads versus p.\n",
    "\n",
    "References Used\n",
    "\n",
    "https://stackoverflow.com/questions/67703875/np-random-binomial-vs-random-choices-for-simulating-coin-flips\n",
    "https://en.wikipedia.org/wiki/Entropy_(information_theory)#:~:text=The%20entropy%20is%20zero%3A%20each,coin%20toss%20is%20always%20certain.\n",
    "https://stackoverflow.com/questions/477237/how-do-i-simulate-flip-of-biased-coin\n",
    "https://stackoverflow.com/questions/21761630/using-python-to-analyse-coin-tossing-statistics\n",
    "https://stackoverflow.com/questions/75497605/python-flipping-x-coins-x-times-using-loops-but-receiving-odd-output\n",
    "https://towardsdatascience.com/how-to-code-a-fair-coin-flip-in-python-d54312f33da9\n",
    "https://cmdlinetips.com/2018/12/simulating-coin-toss-experiment-with-binomial-random-numbers-using-numpy/\n",
    "https://medium.com/geekculture/how-to-simulate-coin-flips-using-binomial-distribution-in-python-165aae7daf22\n",
    "https://numpy.org/doc/stable/reference/random/generated/numpy.random.binomial.html\n",
    "https://stats.stackexchange.com/questions/87182/what-is-the-role-of-the-logarithm-in-shannons-entropy\n",
    "http://karlrosaen.com/ml/notebooks/em-coin-flips/\n"
   ]
  },
  {
   "cell_type": "code",
   "execution_count": null,
   "metadata": {},
   "outputs": [],
   "source": [
    "# Define a function to calculate entropy \n",
    "# This includes the Shannon entropy formula using using logarithms.\n",
    "def entropy(p):\n",
    "    # p is the probability of heads\n",
    "    # and q=1-p is the probability of tails.\n",
    "    # ref https://askamathematician.com/2010/07/q-whats-the-chance-of-getting-a-run-of-k-successes-in-n-bernoulli-trials-why-use-approximations-when-the-exact-answer-is-known/\n",
    "    # Quote: The short answer: the probability, S, of getting K or more heads in a row in N independent attempts\n",
    "    # (where p is the probability of heads and q=1-p is the probability of tails)\n",
    "    q = 1 - p  # q is the probability of tails\n",
    "   \n",
    "    # Shannon entropy formula using logarithms\n",
    "    logp = np.log2(p) # for probability of heads\n",
    "    logq = np.log2(q) # for probability of tails\n",
    "\n",
    "    # Now multiply probability of heads (p) with log of p\n",
    "    a = p * logp\n",
    "    # Now multiply probability of tails (q) with log of q\n",
    "    b = q * logq\n",
    "\n",
    "    # Next get the negative (-) of the sum of both a and b\n",
    "    result = - (a + b)\n",
    "\n",
    "    return result\n",
    "\n",
    "# Generate a range of probability values for coin flips\n",
    "# https://numpy.org/doc/stable/reference/generated/numpy.linspace.html\n",
    "# numpy.linspace(start, stop, num=50, endpoint=True, retstep=False, dtype=None, axis=0)\n",
    "# Here we generate a range of numbers for proability.\n",
    "# From .01 to .99 and to generate 100 samples\n",
    "range_of_prob = np.linspace(0.01, 0.99, 100)\n",
    "\n",
    "# Finally get the entropy for each probability\n",
    "entropy_values = [] # initialise the list\n",
    "for p in range_of_prob:\n",
    "    # here the function entropy(p) is called\n",
    "    # in a for loop for the range_of_prob (100 samples)\n",
    "    # and the returned value is appended to the list for ech loop call\n",
    "    entropy_values.append(entropy(p))\n",
    "\n"
   ]
  },
  {
   "cell_type": "markdown",
   "metadata": {},
   "source": [
    "#### Now produce the plot for the entropy of Heads V Probability"
   ]
  },
  {
   "cell_type": "code",
   "execution_count": null,
   "metadata": {},
   "outputs": [],
   "source": [
    "# Plot the entropy of Heads V Probability\n",
    "plt.plot(range_of_prob, entropy_values, label='Entropy')\n",
    "plt.title('Entropy of Heads V Probability')\n",
    "plt.xlabel('Probability of Heads')\n",
    "plt.ylabel('Entropy of Heads')\n",
    "plt.legend()\n",
    "plt.grid(True) # looks better with grid\n",
    "plt.show()"
   ]
  },
  {
   "cell_type": "markdown",
   "metadata": {},
   "source": [
    "### 5. Create an appropriate individual plot for each of the variables in the penguin data set."
   ]
  },
  {
   "cell_type": "code",
   "execution_count": null,
   "metadata": {},
   "outputs": [],
   "source": [
    "# Display a seaborn plot for each of the numerical columns\n",
    "\n",
    "# Create individual plots for each variable\n",
    "#for col in df.columns:\n",
    "#    sns.displot(df, x=col, kde=True)\n",
    "\n",
    "\n",
    "# Build a list of the numerical variables, and then use in a loop.\n",
    "# ref https://seaborn.pydata.org/generated/seaborn.histplot.html\n",
    "numeric_vars = ['bill_length_mm', 'bill_depth_mm', 'flipper_length_mm', 'body_mass_g']\n",
    "for var_name in numeric_vars:\n",
    "    #kde - If True, compute a kernel density estimate to smooth the distribution and show on the plot as \n",
    "    # (one or more) line(s). Only relevant with univariate data.\n",
    "    # Ref ref https://seaborn.pydata.org/generated/seaborn.histplot.html\n",
    "    #sns.histplot(df[var_name])\n",
    "    sns.histplot(df[var_name], kde=True)\n",
    "    plt.title(f'Plot for {var_name}')\n",
    "    plt.xlabel(var_name)\n",
    "    plt.ylabel('Frequency')\n",
    "    plt.show()\n",
    "\n",
    "# Similar to above.\n",
    "# Display a seaborn plot for each of the string columns\n",
    "# Build a list of the string variables, and then use in a loop.\n",
    "# ref https://seaborn.pydata.org/generated/seaborn.histplot.html\n",
    "string_vars = ['species', 'island', 'sex']\n",
    "for var_name in string_vars:\n",
    "    #kde - If True, compute a kernel density estimate to smooth the distribution and show on the plot as \n",
    "    # (one or more) line(s). Only relevant with univariate data.\n",
    "    # Ref ref https://seaborn.pydata.org/generated/seaborn.histplot.html\n",
    "    sns.histplot(df[var_name], kde=True)\n",
    "    plt.title(f'Plot for {var_name}')\n",
    "    plt.xlabel(var_name)\n",
    "    plt.ylabel('Frequency')\n",
    "    plt.show()\n",
    "\n"
   ]
  },
  {
   "cell_type": "markdown",
   "metadata": {},
   "source": [
    "***\n",
    "\n",
    "## End"
   ]
  }
 ],
 "metadata": {
  "kernelspec": {
   "display_name": "base",
   "language": "python",
   "name": "python3"
  },
  "language_info": {
   "codemirror_mode": {
    "name": "ipython",
    "version": 3
   },
   "file_extension": ".py",
   "mimetype": "text/x-python",
   "name": "python",
   "nbconvert_exporter": "python",
   "pygments_lexer": "ipython3",
   "version": "3.11.5"
  }
 },
 "nbformat": 4,
 "nbformat_minor": 2
}
