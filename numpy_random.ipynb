{
 "cells": [
  {
   "cell_type": "markdown",
   "metadata": {},
   "source": [
    "## Random number in numpy.\n",
    "---\n",
    "\n",
    "\n",
    "### random — Generate pseudo-random numbers.\n",
    "\n",
    "https://docs.python.org/3/library/random.html\n",
    "\n",
    "***"
   ]
  },
  {
   "cell_type": "markdown",
   "metadata": {},
   "source": []
  },
  {
   "cell_type": "code",
   "execution_count": 1,
   "metadata": {},
   "outputs": [],
   "source": [
    "# The random module from the standard library.\n",
    "import random\n",
    "\n",
    "#Numerical arrays, random numbers\n",
    "import numpy as np\n",
    "\n",
    "# Plots.\n",
    "import matplotlib.pyplot as plt\n"
   ]
  },
  {
   "cell_type": "code",
   "execution_count": 2,
   "metadata": {},
   "outputs": [
    {
     "name": "stdout",
     "output_type": "stream",
     "text": [
      "\u001b[1;31mSignature:\u001b[0m \u001b[0mrandom\u001b[0m\u001b[1;33m.\u001b[0m\u001b[0mrandint\u001b[0m\u001b[1;33m(\u001b[0m\u001b[0ma\u001b[0m\u001b[1;33m,\u001b[0m \u001b[0mb\u001b[0m\u001b[1;33m)\u001b[0m\u001b[1;33m\u001b[0m\u001b[1;33m\u001b[0m\u001b[0m\n",
      "\u001b[1;31mDocstring:\u001b[0m\n",
      "Return random integer in range [a, b], including both end points.\n",
      "        \n",
      "\u001b[1;31mFile:\u001b[0m      c:\\users\\administrator\\anaconda3\\lib\\random.py\n",
      "\u001b[1;31mType:\u001b[0m      method"
     ]
    }
   ],
   "source": [
    "# A \"?\" before a method produces help text for the method.\n",
    "# This is a very handy tip!\n",
    "?random.randint\n",
    "\n"
   ]
  },
  {
   "cell_type": "code",
   "execution_count": 3,
   "metadata": {},
   "outputs": [
    {
     "data": {
      "text/plain": [
       "14"
      ]
     },
     "execution_count": 3,
     "metadata": {},
     "output_type": "execute_result"
    }
   ],
   "source": [
    "# Based on the above method help, we can generate a random integer \n",
    "# between 10 and 20 inclusive.\n",
    "random.randint(10,20)"
   ]
  },
  {
   "cell_type": "code",
   "execution_count": 4,
   "metadata": {},
   "outputs": [
    {
     "data": {
      "text/plain": [
       "[5, 6, 8, 1, 6, 5, 9, 6, 9, 4]"
      ]
     },
     "execution_count": 4,
     "metadata": {},
     "output_type": "execute_result"
    }
   ],
   "source": [
    "# Generate a list of random integers between 1 and 100.\n",
    "\n",
    "L = [random.randint(1,10) for i in range (100)]\n",
    "\n",
    "# Show L\n",
    "#L\n",
    "# Show first 10 elements of L\n",
    "L[:10]"
   ]
  },
  {
   "cell_type": "code",
   "execution_count": 5,
   "metadata": {},
   "outputs": [],
   "source": [
    "# List of car makes.\n",
    "\n",
    "makes=['Ford', 'Toyota', 'VW', 'Skoda']"
   ]
  },
  {
   "cell_type": "code",
   "execution_count": 6,
   "metadata": {},
   "outputs": [
    {
     "data": {
      "text/plain": [
       "'VW'"
      ]
     },
     "execution_count": 6,
     "metadata": {},
     "output_type": "execute_result"
    }
   ],
   "source": [
    "# Select one at random.\n",
    "\n",
    "random.choice(makes)"
   ]
  },
  {
   "cell_type": "code",
   "execution_count": 7,
   "metadata": {},
   "outputs": [
    {
     "data": {
      "text/plain": [
       "['Ford', 'VW', 'VW', 'Skoda', 'Toyota', 'Ford', 'VW', 'VW', 'VW', 'Ford']"
      ]
     },
     "execution_count": 7,
     "metadata": {},
     "output_type": "execute_result"
    }
   ],
   "source": [
    "# Select ten random makes (with replacement).\n",
    "\n",
    "random.choices(makes, k=10)"
   ]
  },
  {
   "cell_type": "code",
   "execution_count": 8,
   "metadata": {},
   "outputs": [],
   "source": [
    "# First eight letters.\n",
    "\n",
    "letters = ['A', 'B', 'C', 'D', 'E', 'F' , 'G', 'H']"
   ]
  },
  {
   "cell_type": "code",
   "execution_count": 9,
   "metadata": {},
   "outputs": [],
   "source": [
    "# Shuufle them\n",
    "\n",
    "random.shuffle(letters)"
   ]
  },
  {
   "cell_type": "code",
   "execution_count": 10,
   "metadata": {},
   "outputs": [
    {
     "data": {
      "text/plain": [
       "['A', 'F', 'H', 'E', 'C', 'G', 'B', 'D']"
      ]
     },
     "execution_count": 10,
     "metadata": {},
     "output_type": "execute_result"
    }
   ],
   "source": [
    "# Look at letters after shuffle.\n",
    "letters"
   ]
  },
  {
   "cell_type": "code",
   "execution_count": 11,
   "metadata": {},
   "outputs": [
    {
     "data": {
      "text/plain": [
       "['B', 'G', 'H', 'D', 'F']"
      ]
     },
     "execution_count": 11,
     "metadata": {},
     "output_type": "execute_result"
    }
   ],
   "source": [
    "# Random selection without replacement.\n",
    "random.sample(letters,k=5)"
   ]
  },
  {
   "cell_type": "code",
   "execution_count": 12,
   "metadata": {},
   "outputs": [
    {
     "data": {
      "text/plain": [
       "0.9370810512704513"
      ]
     },
     "execution_count": 12,
     "metadata": {},
     "output_type": "execute_result"
    }
   ],
   "source": [
    "# random real (floating point) numbers [0.0, 1.0).\n",
    "\n",
    "random.random()"
   ]
  },
  {
   "cell_type": "code",
   "execution_count": 13,
   "metadata": {},
   "outputs": [
    {
     "data": {
      "text/plain": [
       "2.0695154679145955"
      ]
     },
     "execution_count": 13,
     "metadata": {},
     "output_type": "execute_result"
    }
   ],
   "source": [
    "# Pick a random floating point number between 0 and 100 [0.0,100.0].\n",
    "random.uniform(0.0,100.0)"
   ]
  },
  {
   "cell_type": "markdown",
   "metadata": {},
   "source": [
    "## numpy\n",
    "\n",
    "[numpy API Reference : Random sampling](https://numpy.org/doc/stable/reference/random/index.html)\n",
    "\n",
    "https://numpy.org/doc/stable/reference/random/index.html\n",
    "\n",
    "***"
   ]
  },
  {
   "cell_type": "markdown",
   "metadata": {},
   "source": []
  },
  {
   "cell_type": "code",
   "execution_count": 14,
   "metadata": {},
   "outputs": [],
   "source": [
    "# Random number generator (RNG) for generating random numbers.\n",
    "rng = np.random.default_rng()"
   ]
  },
  {
   "cell_type": "code",
   "execution_count": 15,
   "metadata": {},
   "outputs": [
    {
     "data": {
      "text/plain": [
       "0.6885968552702287"
      ]
     },
     "execution_count": 15,
     "metadata": {},
     "output_type": "execute_result"
    }
   ],
   "source": [
    "# Generate random floats in the half-open interval [0.0, 1.0).\n",
    "# Generate one random float uniformly distributed over the range [0, 1).\n",
    "rng.random()  "
   ]
  },
  {
   "cell_type": "markdown",
   "metadata": {},
   "source": [
    "Generate numbers on standard Normal distribution.\n",
    "\n",
    "The mean is 0.00 and standard deviation is 1.0.\n",
    "\n",
    "The numbers genrated should be , on average, centered on 0.0.\n",
    "\n",
    "More than 99% of the numbers generated should be between -3.0 and 3.0 (in the interval (-3.0, 3.0)). \n",
    "\n",
    "\n"
   ]
  },
  {
   "cell_type": "code",
   "execution_count": 16,
   "metadata": {},
   "outputs": [
    {
     "data": {
      "text/plain": [
       "array([ 0.56499365, -0.09592119,  0.66646451, -0.23876487, -0.54199885,\n",
       "        0.39150729, -0.77999544, -0.47771446, -0.07133031, -1.79846938])"
      ]
     },
     "execution_count": 16,
     "metadata": {},
     "output_type": "execute_result"
    }
   ],
   "source": [
    "\n",
    "# Generate an array of 10 numbers according to a unit Gaussian distribution.\n",
    "rng.standard_normal(10)  "
   ]
  },
  {
   "cell_type": "code",
   "execution_count": 17,
   "metadata": {},
   "outputs": [
    {
     "data": {
      "text/plain": [
       "array([9, 0, 3, 2, 0], dtype=int64)"
      ]
     },
     "execution_count": 17,
     "metadata": {},
     "output_type": "execute_result"
    }
   ],
   "source": [
    "# Generate an array of 5 integers uniformly over the range [0, 10).\n",
    "rng.integers(low=0, high=10, size=5)  "
   ]
  },
  {
   "cell_type": "code",
   "execution_count": 18,
   "metadata": {},
   "outputs": [
    {
     "data": {
      "text/plain": [
       "array([16, 10, 16, 11, 13, 10, 16, 11, 14, 14, 16, 18, 11, 13, 14],\n",
       "      dtype=int64)"
      ]
     },
     "execution_count": 18,
     "metadata": {},
     "output_type": "execute_result"
    }
   ],
   "source": [
    "# Generate 15 integers between 10 (included) and 20 (excluded).\n",
    "rng.integers(low=10, high=20, size=15)  "
   ]
  },
  {
   "cell_type": "markdown",
   "metadata": {},
   "source": [
    "## Plotting Distributions.\n",
    "\n",
    "\n",
    "***"
   ]
  },
  {
   "cell_type": "code",
   "execution_count": 19,
   "metadata": {},
   "outputs": [],
   "source": [
    "# The loweset integer allowed.\n",
    "low = 1\n",
    "\n",
    "# The highest integer allowed.\n",
    "high = 10\n",
    "\n",
    "# The number of integers to generate.\n",
    "size = 10000"
   ]
  },
  {
   "cell_type": "markdown",
   "metadata": {},
   "source": []
  },
  {
   "cell_type": "code",
   "execution_count": 20,
   "metadata": {},
   "outputs": [],
   "source": [
    "# Generate a list of random integers.\n",
    "rand_ints = rng.integers(low=low, high=high+1, size=size)  \n",
    "\n",
    "# Show (descrete data)\n",
    "#rand_ints"
   ]
  },
  {
   "cell_type": "code",
   "execution_count": 21,
   "metadata": {},
   "outputs": [
    {
     "data": {
      "text/plain": [
       "array([ 1,  2,  3,  4,  5,  6,  7,  8,  9, 10])"
      ]
     },
     "execution_count": 21,
     "metadata": {},
     "output_type": "execute_result"
    }
   ],
   "source": [
    "# The range of x values.\n",
    "x = np.arange(low, high+1.0, dtype=int)\n",
    "\n",
    "# Show x.\n",
    "x"
   ]
  },
  {
   "cell_type": "code",
   "execution_count": 22,
   "metadata": {},
   "outputs": [
    {
     "data": {
      "text/plain": [
       "(array([ 1,  2,  3,  4,  5,  6,  7,  8,  9, 10], dtype=int64),\n",
       " array([1016,  996, 1035,  970,  993,  953, 1001,  979, 1046, 1011],\n",
       "       dtype=int64))"
      ]
     },
     "execution_count": 22,
     "metadata": {},
     "output_type": "execute_result"
    }
   ],
   "source": [
    "# The unique elements of rand_ints.\n",
    "x, counts = np.unique(rand_ints, return_counts=True)\n",
    "\n",
    "# SHow the x and count arrays.\n",
    "x, counts"
   ]
  },
  {
   "cell_type": "code",
   "execution_count": 23,
   "metadata": {},
   "outputs": [
    {
     "data": {
      "image/png": "[encoded data removed]",
      "text/plain": [
       "<Figure size 1200x300 with 1 Axes>"
      ]
     },
     "metadata": {},
     "output_type": "display_data"
    }
   ],
   "source": [
    "# Create an empty plot.\n",
    "fig, ax  = plt.subplots(figsize=(12, 3))\n",
    "\n",
    "# Plot a bar chart.\n",
    "ax.bar(x, counts);"
   ]
  },
  {
   "cell_type": "code",
   "execution_count": 24,
   "metadata": {},
   "outputs": [
    {
     "data": {
      "image/png": "[encoded data removed]",
      "text/plain": [
       "<Figure size 640x480 with 1 Axes>"
      ]
     },
     "metadata": {},
     "output_type": "display_data"
    }
   ],
   "source": [
    "# Create an empty plot.\n",
    "fig, ax = plt.subplots()\n",
    "\n",
    "# Plot a barchart\n"
   ]
  },
  {
   "cell_type": "markdown",
   "metadata": {},
   "source": [
    "## Plotting Histograms.\n",
    "\n",
    "\n",
    "***"
   ]
  },
  {
   "cell_type": "code",
   "execution_count": 25,
   "metadata": {},
   "outputs": [],
   "source": [
    "# The loweset floating point number allowed.\n",
    "#bottom = 0.0\n",
    "\n",
    "# The highest floating point numbers (not) allowed (bacause end-point is excluded).\n",
    "#top = 10\n",
    "\n",
    "# The number of floating point numbers to generate.\n",
    "size = 100000"
   ]
  },
  {
   "cell_type": "code",
   "execution_count": 26,
   "metadata": {},
   "outputs": [],
   "source": [
    "# Generate random floating point numbers in the interval \n",
    "# 0.00 (included) to 1.0 (excluded).\n",
    "rand_floats = rng.random(size)\n",
    "\n",
    "# Show rand_floats.\n",
    "#rand_floats"
   ]
  },
  {
   "cell_type": "code",
   "execution_count": 27,
   "metadata": {},
   "outputs": [
    {
     "data": {
      "image/png": "[encoded data removed]",
      "text/plain": [
       "<Figure size 1200x300 with 1 Axes>"
      ]
     },
     "metadata": {},
     "output_type": "display_data"
    }
   ],
   "source": [
    "# Create an empty plot.\n",
    "fig, ax  = plt.subplots(figsize=(12, 3))\n",
    "\n",
    "# Plot a histogram.\n",
    "ax.hist(rand_floats,bins=100);"
   ]
  },
  {
   "cell_type": "markdown",
   "metadata": {},
   "source": [
    "## Normal looking data.\n",
    "\n",
    "\n",
    "***"
   ]
  },
  {
   "cell_type": "code",
   "execution_count": 28,
   "metadata": {},
   "outputs": [],
   "source": [
    "# Generate numbers on a standard Normal distribution.\n",
    "rand_normal = rng.standard_normal(100000)"
   ]
  },
  {
   "cell_type": "code",
   "execution_count": 29,
   "metadata": {},
   "outputs": [
    {
     "data": {
      "text/plain": [
       "(array([1.16623749e-04, 1.16623749e-04, 0.00000000e+00, 1.16623749e-04,\n",
       "        2.33247498e-04, 3.49871247e-04, 3.49871247e-04, 5.83118745e-04,\n",
       "        1.04961374e-03, 6.99742494e-04, 2.09922748e-03, 1.74935624e-03,\n",
       "        2.91559373e-03, 4.08183122e-03, 4.19845496e-03, 6.06443495e-03,\n",
       "        6.41430620e-03, 8.74678118e-03, 1.15457512e-02, 1.39948499e-02,\n",
       "        1.69104436e-02, 2.13421461e-02, 2.68234623e-02, 3.10219172e-02,\n",
       "        3.62699859e-02, 4.31507871e-02, 5.56295283e-02, 5.80786270e-02,\n",
       "        7.02074969e-02, 8.85174255e-02, 9.87803154e-02, 1.15690759e-01,\n",
       "        1.34700430e-01, 1.42047726e-01, 1.68404694e-01, 1.94761661e-01,\n",
       "        2.10389243e-01, 2.23800974e-01, 2.49691447e-01, 2.70567098e-01,\n",
       "        2.89693393e-01, 3.11618657e-01, 3.31677942e-01, 3.52320346e-01,\n",
       "        3.61650246e-01, 3.74595482e-01, 3.80076798e-01, 4.01302320e-01,\n",
       "        3.94654767e-01, 4.03751419e-01, 3.98153479e-01, 3.88473708e-01,\n",
       "        3.88123837e-01, 3.68297799e-01, 3.76344838e-01, 3.46489158e-01,\n",
       "        3.31444695e-01, 3.18032964e-01, 3.04971104e-01, 2.83862205e-01,\n",
       "        2.64502663e-01, 2.39661804e-01, 2.14820946e-01, 2.07823521e-01,\n",
       "        1.87647612e-01, 1.71320287e-01, 1.42514221e-01, 1.33534193e-01,\n",
       "        1.06010988e-01, 9.69143354e-02, 7.48724469e-02, 7.25399719e-02,\n",
       "        6.13440920e-02, 4.86321033e-02, 3.80193422e-02, 3.54536197e-02,\n",
       "        2.63569673e-02, 2.09922748e-02, 2.00592848e-02, 1.50444636e-02,\n",
       "        1.11958799e-02, 1.00296424e-02, 9.32989992e-03, 6.76417744e-03,\n",
       "        3.61533622e-03, 3.49871247e-03, 3.14884122e-03, 2.44909873e-03,\n",
       "        1.98260373e-03, 9.32989992e-04, 8.16366243e-04, 5.83118745e-04,\n",
       "        5.83118745e-04, 5.83118745e-04, 2.33247498e-04, 0.00000000e+00,\n",
       "        2.33247498e-04, 0.00000000e+00, 1.16623749e-04, 4.66494996e-04]),\n",
       " array([-4.27415625, -4.18841042, -4.1026646 , -4.01691877, -3.93117294,\n",
       "        -3.84542711, -3.75968128, -3.67393545, -3.58818962, -3.50244379,\n",
       "        -3.41669797, -3.33095214, -3.24520631, -3.15946048, -3.07371465,\n",
       "        -2.98796882, -2.90222299, -2.81647717, -2.73073134, -2.64498551,\n",
       "        -2.55923968, -2.47349385, -2.38774802, -2.30200219, -2.21625636,\n",
       "        -2.13051054, -2.04476471, -1.95901888, -1.87327305, -1.78752722,\n",
       "        -1.70178139, -1.61603556, -1.53028974, -1.44454391, -1.35879808,\n",
       "        -1.27305225, -1.18730642, -1.10156059, -1.01581476, -0.93006893,\n",
       "        -0.84432311, -0.75857728, -0.67283145, -0.58708562, -0.50133979,\n",
       "        -0.41559396, -0.32984813, -0.24410231, -0.15835648, -0.07261065,\n",
       "         0.01313518,  0.09888101,  0.18462684,  0.27037267,  0.35611849,\n",
       "         0.44186432,  0.52761015,  0.61335598,  0.69910181,  0.78484764,\n",
       "         0.87059347,  0.9563393 ,  1.04208512,  1.12783095,  1.21357678,\n",
       "         1.29932261,  1.38506844,  1.47081427,  1.5565601 ,  1.64230592,\n",
       "         1.72805175,  1.81379758,  1.89954341,  1.98528924,  2.07103507,\n",
       "         2.1567809 ,  2.24252673,  2.32827255,  2.41401838,  2.49976421,\n",
       "         2.58551004,  2.67125587,  2.7570017 ,  2.84274753,  2.92849335,\n",
       "         3.01423918,  3.09998501,  3.18573084,  3.27147667,  3.3572225 ,\n",
       "         3.44296833,  3.52871416,  3.61445998,  3.70020581,  3.78595164,\n",
       "         3.87169747,  3.9574433 ,  4.04318913,  4.12893496,  4.21468078,\n",
       "         4.30042661]),\n",
       " <BarContainer object of 100 artists>)"
      ]
     },
     "execution_count": 29,
     "metadata": {},
     "output_type": "execute_result"
    },
    {
     "data": {
      "image/png": "[encoded data removed]",
      "text/plain": [
       "<Figure size 1200x300 with 1 Axes>"
      ]
     },
     "metadata": {},
     "output_type": "display_data"
    }
   ],
   "source": [
    "# Create an empty plot.\n",
    "fig, ax  = plt.subplots(figsize=(12, 3))\n",
    "\n",
    "# Plot a histogram.\n",
    "ax.hist(rand_normal, bins=100, density=True)"
   ]
  },
  {
   "cell_type": "code",
   "execution_count": 30,
   "metadata": {},
   "outputs": [
    {
     "data": {
      "image/png": "[encoded data removed]",
      "text/plain": [
       "<Figure size 1200x300 with 1 Axes>"
      ]
     },
     "metadata": {},
     "output_type": "display_data"
    }
   ],
   "source": [
    "# Create an empty plot.\n",
    "fig, ax  = plt.subplots(figsize=(12, 3))\n",
    "\n",
    "# Plot a bar chart, it's useless though.\n",
    "ax.bar(x, counts, width=0.001);"
   ]
  },
  {
   "cell_type": "markdown",
   "metadata": {},
   "source": [
    "## Two plots in one.\n",
    "\n",
    "\n",
    "***"
   ]
  },
  {
   "cell_type": "markdown",
   "metadata": {},
   "source": [
    "**Normal PDF**\n",
    "$$ f(x) = \\frac{1}{\\sigma \\sqrt{2 \\pi}} e^{-\\frac{1}{2} \\big( \\frac{x - \\mu}{\\sigma} | \\big)^2}$$\n"
   ]
  },
  {
   "cell_type": "markdown",
   "metadata": {},
   "source": []
  },
  {
   "cell_type": "markdown",
   "metadata": {},
   "source": [
    "**Standard Normal PDF**\n",
    "$$ f(x) = \\frac{1}{\\sqrt{2 \\pi}} e^{-\\frac{x^2}{2} }$$\n"
   ]
  },
  {
   "cell_type": "code",
   "execution_count": 31,
   "metadata": {},
   "outputs": [],
   "source": [
    "# x should be a numpy array.\n",
    "def f(x):\n",
    "    A = 1.0 / np.sqrt(2.0 * np.pi)\n",
    "    B = np.exp(- (x**2) / 2.0)\n",
    "    return A * B"
   ]
  },
  {
   "cell_type": "code",
   "execution_count": 32,
   "metadata": {},
   "outputs": [
    {
     "data": {
      "text/plain": [
       "0.3989422804014327"
      ]
     },
     "execution_count": 32,
     "metadata": {},
     "output_type": "execute_result"
    }
   ],
   "source": [
    "# Test value aroun 0.0.\n",
    "f(0.0)"
   ]
  },
  {
   "cell_type": "code",
   "execution_count": 33,
   "metadata": {},
   "outputs": [
    {
     "data": {
      "text/plain": [
       "0.0044318484119380075"
      ]
     },
     "execution_count": 33,
     "metadata": {},
     "output_type": "execute_result"
    }
   ],
   "source": [
    "# Test value aroun 3.0.\n",
    "f(3.0)"
   ]
  },
  {
   "cell_type": "code",
   "execution_count": 34,
   "metadata": {},
   "outputs": [
    {
     "data": {
      "text/plain": [
       "[<matplotlib.lines.Line2D at 0x1735527a250>]"
      ]
     },
     "execution_count": 34,
     "metadata": {},
     "output_type": "execute_result"
    },
    {
     "data": {
      "image/png": "[encoded data removed]",
      "text/plain": [
       "<Figure size 1200x400 with 1 Axes>"
      ]
     },
     "metadata": {},
     "output_type": "display_data"
    }
   ],
   "source": [
    "# Range of x values for plotting.\n",
    "x = np.linspace(-5.0, 5.0, 1001)\n",
    "\n",
    "# Create empty plot.\n",
    "fig, ax = plt.subplots(figsize=(12, 4))\n",
    "\n",
    "# Plot histogram of randomly generated normal values from above.\n",
    "ax.hist(rand_normal,bins=100, density=True);\n",
    "\n",
    "# Plot f(x)\n",
    "ax.plot(x, f(x))"
   ]
  },
  {
   "cell_type": "markdown",
   "metadata": {},
   "source": [
    "***\n",
    "\n",
    "#### End"
   ]
  }
 ],
 "metadata": {
  "kernelspec": {
   "display_name": "base",
   "language": "python",
   "name": "python3"
  },
  "language_info": {
   "codemirror_mode": {
    "name": "ipython",
    "version": 3
   },
   "file_extension": ".py",
   "mimetype": "text/x-python",
   "name": "python",
   "nbconvert_exporter": "python",
   "pygments_lexer": "ipython3",
   "version": "3.11.5"
  }
 },
 "nbformat": 4,
 "nbformat_minor": 2
}
