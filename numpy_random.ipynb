{
 "cells": [
  {
   "cell_type": "markdown",
   "metadata": {},
   "source": [
    "## Random number in numpy.\n",
    "---\n",
    "\n",
    "\n",
    "### random — Generate pseudo-random numbers.\n",
    "\n",
    "https://docs.python.org/3/library/random.html\n",
    "\n",
    "***"
   ]
  },
  {
   "cell_type": "markdown",
   "metadata": {},
   "source": []
  },
  {
   "cell_type": "code",
   "execution_count": 1,
   "metadata": {},
   "outputs": [],
   "source": [
    "# The random module from the standard library.\n",
    "import random\n",
    "\n",
    "#Numerical arrays, random numbers\n",
    "import numpy as np\n",
    "\n",
    "# Plots.\n",
    "import matplotlib.pyplot as plt\n"
   ]
  },
  {
   "cell_type": "code",
   "execution_count": 2,
   "metadata": {},
   "outputs": [
    {
     "name": "stdout",
     "output_type": "stream",
     "text": [
      "\u001b[1;31mSignature:\u001b[0m \u001b[0mrandom\u001b[0m\u001b[1;33m.\u001b[0m\u001b[0mrandint\u001b[0m\u001b[1;33m(\u001b[0m\u001b[0ma\u001b[0m\u001b[1;33m,\u001b[0m \u001b[0mb\u001b[0m\u001b[1;33m)\u001b[0m\u001b[1;33m\u001b[0m\u001b[1;33m\u001b[0m\u001b[0m\n",
      "\u001b[1;31mDocstring:\u001b[0m\n",
      "Return random integer in range [a, b], including both end points.\n",
      "        \n",
      "\u001b[1;31mFile:\u001b[0m      c:\\users\\administrator\\anaconda3\\lib\\random.py\n",
      "\u001b[1;31mType:\u001b[0m      method"
     ]
    }
   ],
   "source": [
    "# A \"?\" before a method produces help text for the method.\n",
    "# This is a very handy tip!\n",
    "?random.randint\n",
    "\n"
   ]
  },
  {
   "cell_type": "code",
   "execution_count": 3,
   "metadata": {},
   "outputs": [
    {
     "data": {
      "text/plain": [
       "17"
      ]
     },
     "execution_count": 3,
     "metadata": {},
     "output_type": "execute_result"
    }
   ],
   "source": [
    "# Based on the above method help, we can generate a random integer \n",
    "# between 10 and 20 inclusive.\n",
    "random.randint(10,20)"
   ]
  },
  {
   "cell_type": "code",
   "execution_count": 4,
   "metadata": {},
   "outputs": [
    {
     "data": {
      "text/plain": [
       "[10, 4, 2, 7, 10, 10, 6, 4, 1, 1]"
      ]
     },
     "execution_count": 4,
     "metadata": {},
     "output_type": "execute_result"
    }
   ],
   "source": [
    "# Generate a list of random integers between 1 and 100.\n",
    "\n",
    "L = [random.randint(1,10) for i in range (100)]\n",
    "\n",
    "# Show L\n",
    "#L\n",
    "# Show first 10 elements of L\n",
    "L[:10]"
   ]
  },
  {
   "cell_type": "code",
   "execution_count": 5,
   "metadata": {},
   "outputs": [],
   "source": [
    "# List of car makes.\n",
    "\n",
    "makes=['Ford', 'Toyota', 'VW', 'Skoda']"
   ]
  },
  {
   "cell_type": "code",
   "execution_count": 6,
   "metadata": {},
   "outputs": [
    {
     "data": {
      "text/plain": [
       "'Ford'"
      ]
     },
     "execution_count": 6,
     "metadata": {},
     "output_type": "execute_result"
    }
   ],
   "source": [
    "# Select one at random.\n",
    "\n",
    "random.choice(makes)"
   ]
  },
  {
   "cell_type": "code",
   "execution_count": 7,
   "metadata": {},
   "outputs": [
    {
     "data": {
      "text/plain": [
       "['Ford',\n",
       " 'VW',\n",
       " 'Ford',\n",
       " 'Toyota',\n",
       " 'Skoda',\n",
       " 'Ford',\n",
       " 'Skoda',\n",
       " 'VW',\n",
       " 'VW',\n",
       " 'Toyota']"
      ]
     },
     "execution_count": 7,
     "metadata": {},
     "output_type": "execute_result"
    }
   ],
   "source": [
    "# Select ten random makes (with replacement).\n",
    "\n",
    "random.choices(makes, k=10)"
   ]
  },
  {
   "cell_type": "code",
   "execution_count": 8,
   "metadata": {},
   "outputs": [],
   "source": [
    "# First eight letters.\n",
    "\n",
    "letters = ['A', 'B', 'C', 'D', 'E', 'F' , 'G', 'H']"
   ]
  },
  {
   "cell_type": "code",
   "execution_count": 9,
   "metadata": {},
   "outputs": [],
   "source": [
    "# Shuufle them\n",
    "\n",
    "random.shuffle(letters)"
   ]
  },
  {
   "cell_type": "code",
   "execution_count": 10,
   "metadata": {},
   "outputs": [
    {
     "data": {
      "text/plain": [
       "['G', 'H', 'F', 'C', 'D', 'E', 'B', 'A']"
      ]
     },
     "execution_count": 10,
     "metadata": {},
     "output_type": "execute_result"
    }
   ],
   "source": [
    "# Look at letters after shuffle.\n",
    "letters"
   ]
  },
  {
   "cell_type": "code",
   "execution_count": 11,
   "metadata": {},
   "outputs": [
    {
     "data": {
      "text/plain": [
       "['B', 'F', 'A', 'D', 'E']"
      ]
     },
     "execution_count": 11,
     "metadata": {},
     "output_type": "execute_result"
    }
   ],
   "source": [
    "# Random selection without replacement.\n",
    "random.sample(letters,k=5)"
   ]
  },
  {
   "cell_type": "code",
   "execution_count": 12,
   "metadata": {},
   "outputs": [
    {
     "data": {
      "text/plain": [
       "0.24435137431992127"
      ]
     },
     "execution_count": 12,
     "metadata": {},
     "output_type": "execute_result"
    }
   ],
   "source": [
    "# random real (floating point) numbers [0.0, 1.0).\n",
    "\n",
    "random.random()"
   ]
  },
  {
   "cell_type": "code",
   "execution_count": 13,
   "metadata": {},
   "outputs": [
    {
     "data": {
      "text/plain": [
       "26.50446353273468"
      ]
     },
     "execution_count": 13,
     "metadata": {},
     "output_type": "execute_result"
    }
   ],
   "source": [
    "# Pick a random floating point number between 0 and 100 [0.0,100.0].\n",
    "random.uniform(0.0,100.0)"
   ]
  },
  {
   "cell_type": "markdown",
   "metadata": {},
   "source": [
    "## numpy\n",
    "\n",
    "[numpy API Reference : Random sampling](https://numpy.org/doc/stable/reference/random/index.html)\n",
    "\n",
    "https://numpy.org/doc/stable/reference/random/index.html\n",
    "\n",
    "***"
   ]
  },
  {
   "cell_type": "markdown",
   "metadata": {},
   "source": []
  },
  {
   "cell_type": "code",
   "execution_count": 14,
   "metadata": {},
   "outputs": [],
   "source": [
    "# Random number generator (RNG) for generating random numbers.\n",
    "rng = np.random.default_rng()"
   ]
  },
  {
   "cell_type": "code",
   "execution_count": 15,
   "metadata": {},
   "outputs": [
    {
     "data": {
      "text/plain": [
       "0.10362606393105322"
      ]
     },
     "execution_count": 15,
     "metadata": {},
     "output_type": "execute_result"
    }
   ],
   "source": [
    "# Generate random floats in the half-open interval [0.0, 1.0).\n",
    "# Generate one random float uniformly distributed over the range [0, 1).\n",
    "rng.random()  "
   ]
  },
  {
   "cell_type": "markdown",
   "metadata": {},
   "source": [
    "Generate numbers on standard Normal distribution.\n",
    "\n",
    "The mean is 0.00 and standard deviation is 1.0.\n",
    "\n",
    "The numbers genrated should be , on average, centered on 0.0.\n",
    "\n",
    "More than 99% of the numbers generated should be between -3.0 and 3.0 (in the interval (-3.0, 3.0)). \n",
    "\n",
    "\n"
   ]
  },
  {
   "cell_type": "code",
   "execution_count": 16,
   "metadata": {},
   "outputs": [
    {
     "data": {
      "text/plain": [
       "array([ 0.83032658, -1.4829052 , -1.36704839,  0.09842234,  0.13729031,\n",
       "       -1.90287305,  0.25085455, -0.06922452, -0.42864728, -0.90240471])"
      ]
     },
     "execution_count": 16,
     "metadata": {},
     "output_type": "execute_result"
    }
   ],
   "source": [
    "\n",
    "# Generate an array of 10 numbers according to a unit Gaussian distribution.\n",
    "rng.standard_normal(10)  "
   ]
  },
  {
   "cell_type": "code",
   "execution_count": 17,
   "metadata": {},
   "outputs": [
    {
     "data": {
      "text/plain": [
       "array([6, 5, 7, 4, 0], dtype=int64)"
      ]
     },
     "execution_count": 17,
     "metadata": {},
     "output_type": "execute_result"
    }
   ],
   "source": [
    "# Generate an array of 5 integers uniformly over the range [0, 10).\n",
    "rng.integers(low=0, high=10, size=5)  "
   ]
  },
  {
   "cell_type": "code",
   "execution_count": 18,
   "metadata": {},
   "outputs": [
    {
     "data": {
      "text/plain": [
       "array([13, 15, 16, 16, 12, 16, 16, 10, 14, 17, 10, 10, 12, 11, 16],\n",
       "      dtype=int64)"
      ]
     },
     "execution_count": 18,
     "metadata": {},
     "output_type": "execute_result"
    }
   ],
   "source": [
    "# Generate 15 integers between 10 (included) and 20 (excluded).\n",
    "rng.integers(low=10, high=20, size=15)  "
   ]
  },
  {
   "cell_type": "markdown",
   "metadata": {},
   "source": [
    "## Plotting Distributions.\n",
    "\n",
    "\n",
    "***"
   ]
  },
  {
   "cell_type": "code",
   "execution_count": 19,
   "metadata": {},
   "outputs": [],
   "source": [
    "# The loweset integer allowed.\n",
    "low = 1\n",
    "\n",
    "# The highest integer allowed.\n",
    "high = 10\n",
    "\n",
    "# The number of integers to generate.\n",
    "size = 10000"
   ]
  },
  {
   "cell_type": "markdown",
   "metadata": {},
   "source": []
  },
  {
   "cell_type": "code",
   "execution_count": 20,
   "metadata": {},
   "outputs": [],
   "source": [
    "# Generate a list of random integers.\n",
    "rand_ints = rng.integers(low=low, high=high+1, size=size)  \n",
    "\n",
    "# Show (descrete data)\n",
    "#rand_ints"
   ]
  },
  {
   "cell_type": "code",
   "execution_count": 21,
   "metadata": {},
   "outputs": [
    {
     "data": {
      "text/plain": [
       "array([ 1,  2,  3,  4,  5,  6,  7,  8,  9, 10])"
      ]
     },
     "execution_count": 21,
     "metadata": {},
     "output_type": "execute_result"
    }
   ],
   "source": [
    "# The range of x values.\n",
    "x = np.arange(low, high+1.0, dtype=int)\n",
    "\n",
    "# Show x.\n",
    "x"
   ]
  },
  {
   "cell_type": "code",
   "execution_count": 22,
   "metadata": {},
   "outputs": [
    {
     "data": {
      "text/plain": [
       "(array([ 1,  2,  3,  4,  5,  6,  7,  8,  9, 10], dtype=int64),\n",
       " array([ 974, 1006,  998, 1013,  987, 1022, 1067,  997,  978,  958],\n",
       "       dtype=int64))"
      ]
     },
     "execution_count": 22,
     "metadata": {},
     "output_type": "execute_result"
    }
   ],
   "source": [
    "# The unique elements of rand_ints.\n",
    "x, counts = np.unique(rand_ints, return_counts=True)\n",
    "\n",
    "# SHow the x and count arrays.\n",
    "x, counts"
   ]
  },
  {
   "cell_type": "code",
   "execution_count": 23,
   "metadata": {},
   "outputs": [
    {
     "data": {
      "image/png": "[encoded data removed]",
      "text/plain": [
       "<Figure size 1200x300 with 1 Axes>"
      ]
     },
     "metadata": {},
     "output_type": "display_data"
    }
   ],
   "source": [
    "# Create an empty plot.\n",
    "fig, ax  = plt.subplots(figsize=(12, 3))\n",
    "\n",
    "# Plot a bar chart.\n",
    "ax.bar(x, counts);"
   ]
  },
  {
   "cell_type": "code",
   "execution_count": 24,
   "metadata": {},
   "outputs": [
    {
     "data": {
      "image/png": "[encoded data removed]",
      "text/plain": [
       "<Figure size 640x480 with 1 Axes>"
      ]
     },
     "metadata": {},
     "output_type": "display_data"
    }
   ],
   "source": [
    "# Create an empty plot.\n",
    "fig, ax = plt.subplots()\n",
    "\n",
    "# Plot a barchart\n"
   ]
  },
  {
   "cell_type": "markdown",
   "metadata": {},
   "source": [
    "## Plotting Histograms.\n",
    "\n",
    "\n",
    "***"
   ]
  },
  {
   "cell_type": "code",
   "execution_count": 25,
   "metadata": {},
   "outputs": [],
   "source": [
    "# The loweset floating point number allowed.\n",
    "#bottom = 0.0\n",
    "\n",
    "# The highest floating point numbers (not) allowed (bacause end-point is excluded).\n",
    "#top = 10\n",
    "\n",
    "# The number of floating point numbers to generate.\n",
    "size = 100000"
   ]
  },
  {
   "cell_type": "code",
   "execution_count": 26,
   "metadata": {},
   "outputs": [],
   "source": [
    "# Generate random floating point numbers in the interval \n",
    "# 0.00 (included) to 1.0 (excluded).\n",
    "rand_floats = rng.random(size)\n",
    "\n",
    "# Show rand_floats.\n",
    "#rand_floats"
   ]
  },
  {
   "cell_type": "code",
   "execution_count": 27,
   "metadata": {},
   "outputs": [
    {
     "data": {
      "image/png": "[encoded data removed]",
      "text/plain": [
       "<Figure size 1200x300 with 1 Axes>"
      ]
     },
     "metadata": {},
     "output_type": "display_data"
    }
   ],
   "source": [
    "# Create an empty plot.\n",
    "fig, ax  = plt.subplots(figsize=(12, 3))\n",
    "\n",
    "# Plot a histogram.\n",
    "ax.hist(rand_floats,bins=100);"
   ]
  },
  {
   "cell_type": "markdown",
   "metadata": {},
   "source": [
    "## Normal looking data.\n",
    "\n",
    "\n",
    "***"
   ]
  },
  {
   "cell_type": "code",
   "execution_count": 28,
   "metadata": {},
   "outputs": [],
   "source": [
    "# Generate numbers on a standard Normal distribution.\n",
    "rand_normal = rng.standard_normal(100000)"
   ]
  },
  {
   "cell_type": "code",
   "execution_count": 29,
   "metadata": {},
   "outputs": [
    {
     "data": {
      "text/plain": [
       "(array([1.17937862e-04, 0.00000000e+00, 0.00000000e+00, 1.17937862e-04,\n",
       "        2.35875723e-04, 3.53813585e-04, 3.53813585e-04, 5.89689308e-04,\n",
       "        2.35875723e-04, 4.71751446e-04, 1.06144075e-03, 4.71751446e-04,\n",
       "        2.12288151e-03, 3.42019799e-03, 2.35875723e-03, 3.53813585e-03,\n",
       "        6.36864453e-03, 6.01483094e-03, 7.90183673e-03, 1.13220347e-02,\n",
       "        1.37987298e-02, 1.71009899e-02, 2.08750015e-02, 2.81871489e-02,\n",
       "        2.83050868e-02, 3.40840420e-02, 4.13961894e-02, 5.03594669e-02,\n",
       "        6.82860219e-02, 6.91115869e-02, 8.47973225e-02, 9.52937922e-02,\n",
       "        1.10625714e-01, 1.33269784e-01, 1.39520490e-01, 1.64523317e-01,\n",
       "        1.77614420e-01, 2.00612303e-01, 2.21841118e-01, 2.41418803e-01,\n",
       "        2.62883494e-01, 2.75974596e-01, 3.02156801e-01, 3.21026859e-01,\n",
       "        3.29282510e-01, 3.51690703e-01, 3.59474602e-01, 3.72211891e-01,\n",
       "        3.84713305e-01, 3.78226722e-01, 3.98040283e-01, 3.98747910e-01,\n",
       "        4.03937176e-01, 3.96035339e-01, 3.90610198e-01, 3.73863021e-01,\n",
       "        3.56172342e-01, 3.40132793e-01, 3.45793810e-01, 3.15365842e-01,\n",
       "        2.91070642e-01, 2.83758495e-01, 2.54038154e-01, 2.36465413e-01,\n",
       "        2.19482360e-01, 1.95069223e-01, 1.80680804e-01, 1.61338995e-01,\n",
       "        1.35628541e-01, 1.22891252e-01, 1.05908200e-01, 8.83354583e-02,\n",
       "        8.30282546e-02, 6.48658239e-02, 6.13276880e-02, 4.94159640e-02,\n",
       "        4.30473195e-02, 2.97203411e-02, 3.20790984e-02, 2.15826287e-02,\n",
       "        2.05211879e-02, 1.42704813e-02, 1.06144075e-02, 1.21475997e-02,\n",
       "        6.60452025e-03, 6.13276880e-03, 5.54307950e-03, 3.53813585e-03,\n",
       "        1.88700579e-03, 1.76906792e-03, 1.53319220e-03, 1.17937862e-03,\n",
       "        9.43502893e-04, 9.43502893e-04, 4.71751446e-04, 1.06144075e-03,\n",
       "        1.17937862e-04, 2.35875723e-04, 0.00000000e+00, 1.17937862e-04]),\n",
       " array([-4.35931841, -4.274528  , -4.18973758, -4.10494717, -4.02015676,\n",
       "        -3.93536635, -3.85057593, -3.76578552, -3.68099511, -3.59620469,\n",
       "        -3.51141428, -3.42662387, -3.34183345, -3.25704304, -3.17225263,\n",
       "        -3.08746221, -3.0026718 , -2.91788139, -2.83309098, -2.74830056,\n",
       "        -2.66351015, -2.57871974, -2.49392932, -2.40913891, -2.3243485 ,\n",
       "        -2.23955808, -2.15476767, -2.06997726, -1.98518685, -1.90039643,\n",
       "        -1.81560602, -1.73081561, -1.64602519, -1.56123478, -1.47644437,\n",
       "        -1.39165395, -1.30686354, -1.22207313, -1.13728271, -1.0524923 ,\n",
       "        -0.96770189, -0.88291148, -0.79812106, -0.71333065, -0.62854024,\n",
       "        -0.54374982, -0.45895941, -0.374169  , -0.28937858, -0.20458817,\n",
       "        -0.11979776, -0.03500735,  0.04978307,  0.13457348,  0.21936389,\n",
       "         0.30415431,  0.38894472,  0.47373513,  0.55852555,  0.64331596,\n",
       "         0.72810637,  0.81289679,  0.8976872 ,  0.98247761,  1.06726802,\n",
       "         1.15205844,  1.23684885,  1.32163926,  1.40642968,  1.49122009,\n",
       "         1.5760105 ,  1.66080092,  1.74559133,  1.83038174,  1.91517215,\n",
       "         1.99996257,  2.08475298,  2.16954339,  2.25433381,  2.33912422,\n",
       "         2.42391463,  2.50870505,  2.59349546,  2.67828587,  2.76307629,\n",
       "         2.8478667 ,  2.93265711,  3.01744752,  3.10223794,  3.18702835,\n",
       "         3.27181876,  3.35660918,  3.44139959,  3.52619   ,  3.61098042,\n",
       "         3.69577083,  3.78056124,  3.86535165,  3.95014207,  4.03493248,\n",
       "         4.11972289]),\n",
       " <BarContainer object of 100 artists>)"
      ]
     },
     "execution_count": 29,
     "metadata": {},
     "output_type": "execute_result"
    },
    {
     "data": {
      "image/png": "[encoded data removed]",
      "text/plain": [
       "<Figure size 1200x300 with 1 Axes>"
      ]
     },
     "metadata": {},
     "output_type": "display_data"
    }
   ],
   "source": [
    "# Create an empty plot.\n",
    "fig, ax  = plt.subplots(figsize=(12, 3))\n",
    "\n",
    "# Plot a histogram.\n",
    "ax.hist(rand_normal, bins=100, density=True)"
   ]
  },
  {
   "cell_type": "code",
   "execution_count": null,
   "metadata": {},
   "outputs": [],
   "source": []
  },
  {
   "cell_type": "markdown",
   "metadata": {},
   "source": [
    "***\n",
    "\n",
    "#### End"
   ]
  }
 ],
 "metadata": {
  "kernelspec": {
   "display_name": "base",
   "language": "python",
   "name": "python3"
  },
  "language_info": {
   "codemirror_mode": {
    "name": "ipython",
    "version": 3
   },
   "file_extension": ".py",
   "mimetype": "text/x-python",
   "name": "python",
   "nbconvert_exporter": "python",
   "pygments_lexer": "ipython3",
   "version": "3.11.5"
  }
 },
 "nbformat": 4,
 "nbformat_minor": 2
}
