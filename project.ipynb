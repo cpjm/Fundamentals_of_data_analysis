{
 "cells": [
  {
   "cell_type": "markdown",
   "metadata": {},
   "source": [
    "# Fundamentals of Data Analysis\n",
    "# Project\n",
    "\n",
    "**Ciaran Moran**\n",
    "\n",
    "***"
   ]
  },
  {
   "cell_type": "markdown",
   "metadata": {},
   "source": [
    "#### Initial research of the Iris data set\n",
    "\n",
    "### Initial Background Research\n",
    "\n",
    "I had no idea what this dataset was all about. Before diving in headfirst to do the analysis and programming, it was imperative that I got an understanding of what this data means - to garner a real-world understanding of why it exists and where it came from. \n",
    "\n",
    "From Wikipedia and some informative YouTube videos (e.g. Great Learning https://www.youtube.com/watch?v=HXi9cl5Aq5w&ab_channel=GreatLearning) I discovered the following facts. \n",
    "\n",
    "The data originates from 1936 and was created by a botanist and statistician Ronald Fisher. \n",
    "\n",
    "The data set is a collection of measurements of the sepal and petal of 3 varieties of the iris flower - Setosa, Virginica and Versicolor. The flowers were picked from the same field (in Quebec Canada) on the same day and by the same person using the same apparatus. \n",
    "\n",
    "(I had great difficulty in generating these images in the table using markdown. I tried all types of \"width\"\n",
    "combinations to no success. What eventually worked was simple - the addition of the |----| heading underlines.)\n",
    "\n",
    "Table images Ref:-\n",
    "https://stackoverflow.com/questions/41598916/resize-the-image-in-jupyter-notebook-using-markdown\n",
    "https://stackoverflow.com/questions/48667618/images-in-a-table-with-github-markdown \n",
    "https://stackoverflow.com/questions/63097837/markdown-image-titles\n",
    "https://stackoverflow.com/questions/14675913/changing-image-size-in-markdown\n",
    "https://dzone.com/articles/how-to-style-images-with-markdown\n",
    "\n",
    "\n",
    "| versicolor | setosa | virginica |\n",
    "|------------|--------|-----------|\n",
    "| ![versicolor](images/iris/330px-Iris_versicolor_3.jpg) | ![setosa](images/iris/Kosaciec_szczecinkowaty_Iris_setosa.jpg) | ![virginica](images/iris/Iris_virginica.jpg) |\n",
    "\n",
    "\n",
    "According to the American Museum of Natural History (https://www.amnh.org). \n",
    "\n",
    "The sepal is the outer green leaf-like part of the flower bud.  \n",
    "The petal is the inner coloured part of the flower.\t \n",
    "\n",
    "\n",
    "![versicolor](images/iris/parts-of-a-flower_full_610.png)\n",
    "\n"
   ]
  },
  {
   "cell_type": "code",
   "execution_count": null,
   "metadata": {},
   "outputs": [],
   "source": []
  },
  {
   "cell_type": "code",
   "execution_count": null,
   "metadata": {},
   "outputs": [],
   "source": []
  },
  {
   "cell_type": "code",
   "execution_count": null,
   "metadata": {},
   "outputs": [],
   "source": []
  },
  {
   "cell_type": "code",
   "execution_count": null,
   "metadata": {},
   "outputs": [],
   "source": []
  },
  {
   "cell_type": "markdown",
   "metadata": {},
   "source": [
    "### Some standard python library imports"
   ]
  },
  {
   "cell_type": "code",
   "execution_count": 4,
   "metadata": {},
   "outputs": [],
   "source": [
    "# Some standard Python library imports\n",
    "import numpy as np\n",
    "import matplotlib.pyplot as plt\n",
    "import pandas as pd\n",
    "import seaborn as sns\n"
   ]
  },
  {
   "cell_type": "markdown",
   "metadata": {},
   "source": [
    "### Opening and reading the 'iris.data' csv file.\n",
    "### My code re-used code from this article:- \n",
    "### https://www.w3schools.com/python/pandas/pandas_csv.asp"
   ]
  },
  {
   "cell_type": "code",
   "execution_count": 12,
   "metadata": {},
   "outputs": [
    {
     "name": "stdout",
     "output_type": "stream",
     "text": [
      "Head of iris data\n",
      "   Sepal_Length  Sepal_Width  Petal_Length  Petal_Width        Class\n",
      "0           5.1          3.5           1.4          0.2  Iris-setosa\n",
      "1           4.9          3.0           1.4          0.2  Iris-setosa\n",
      "2           4.7          3.2           1.3          0.2  Iris-setosa\n",
      "3           4.6          3.1           1.5          0.2  Iris-setosa\n",
      "4           5.0          3.6           1.4          0.2  Iris-setosa\n",
      "Tail of iris data\n",
      "     Sepal_Length  Sepal_Width  Petal_Length  Petal_Width           Class\n",
      "145           6.7          3.0           5.2          2.3  Iris-virginica\n",
      "146           6.3          2.5           5.0          1.9  Iris-virginica\n",
      "147           6.5          3.0           5.2          2.0  Iris-virginica\n",
      "148           6.2          3.4           5.4          2.3  Iris-virginica\n",
      "149           5.9          3.0           5.1          1.8  Iris-virginica\n",
      "Describe iris data\n",
      "       Sepal_Length  Sepal_Width  Petal_Length  Petal_Width\n",
      "count    150.000000   150.000000    150.000000   150.000000\n",
      "mean       5.843333     3.054000      3.758667     1.198667\n",
      "std        0.828066     0.433594      1.764420     0.763161\n",
      "min        4.300000     2.000000      1.000000     0.100000\n",
      "25%        5.100000     2.800000      1.600000     0.300000\n",
      "50%        5.800000     3.000000      4.350000     1.300000\n",
      "75%        6.400000     3.300000      5.100000     1.800000\n",
      "max        7.900000     4.400000      6.900000     2.500000\n"
     ]
    }
   ],
   "source": [
    "###############################################\n",
    "#Load the data and display some initial info\n",
    "###############################################\n",
    "#The column info from iris.names, this denotes the columns in the csv\n",
    "#7. Attribute Information:\n",
    "#   1. sepal length in cm\n",
    "#   2. sepal width in cm\n",
    "#   3. petal length in cm\n",
    "#   4. petal width in cm\n",
    "#   5. class: \n",
    "#      -- Iris-setosa\n",
    "#      -- Iris-versicolour\n",
    "#      -- Iris-virginica\n",
    "col_names = ['Sepal_Length','Sepal_Width','Petal_Length','Petal_Width','Class']\n",
    "#ref https://www.w3schools.com/python/pandas/pandas_csv.asp#gsc.tab=0\n",
    "df = pd.read_csv('data/iris/iris.data',names=col_names)\n",
    "\n",
    "#Display some initial info on the data\n",
    "#Head will print the column names and first 5 lines of data\n",
    "#Ref https://www.w3schools.com/python/pandas/ref_df_head.asp\n",
    "print(\"Head of iris data\")\n",
    "print(df.head())\n",
    "\n",
    "#Tail will print the column names and last 5 lines of data\n",
    "#Ref: https://www.w3schools.com/python/pandas/ref_df_tail.asp\n",
    "#From this info we can see that there are 149 rows of iris data\n",
    "print(\"Tail of iris data\")\n",
    "print(df.tail())\n",
    "\n",
    "# The describe() method returns description of the data in the DataFrame.\n",
    "# Ref https://www.w3schools.com/python/pandas/ref_df_describe.asp\n",
    "print(\"Describe iris data\")\n",
    "print(df.describe())\n"
   ]
  },
  {
   "cell_type": "code",
   "execution_count": null,
   "metadata": {},
   "outputs": [],
   "source": []
  },
  {
   "cell_type": "code",
   "execution_count": null,
   "metadata": {},
   "outputs": [],
   "source": []
  },
  {
   "cell_type": "code",
   "execution_count": null,
   "metadata": {},
   "outputs": [],
   "source": []
  },
  {
   "cell_type": "code",
   "execution_count": null,
   "metadata": {},
   "outputs": [],
   "source": []
  },
  {
   "cell_type": "code",
   "execution_count": null,
   "metadata": {},
   "outputs": [],
   "source": []
  },
  {
   "cell_type": "code",
   "execution_count": null,
   "metadata": {},
   "outputs": [],
   "source": []
  },
  {
   "cell_type": "code",
   "execution_count": null,
   "metadata": {},
   "outputs": [],
   "source": []
  },
  {
   "cell_type": "code",
   "execution_count": null,
   "metadata": {},
   "outputs": [],
   "source": []
  },
  {
   "cell_type": "code",
   "execution_count": null,
   "metadata": {},
   "outputs": [],
   "source": []
  },
  {
   "cell_type": "code",
   "execution_count": null,
   "metadata": {},
   "outputs": [],
   "source": []
  },
  {
   "cell_type": "code",
   "execution_count": null,
   "metadata": {},
   "outputs": [],
   "source": []
  },
  {
   "cell_type": "code",
   "execution_count": null,
   "metadata": {},
   "outputs": [],
   "source": []
  },
  {
   "cell_type": "markdown",
   "metadata": {},
   "source": [
    "***\n",
    "\n",
    "## End"
   ]
  }
 ],
 "metadata": {
  "kernelspec": {
   "display_name": "base",
   "language": "python",
   "name": "python3"
  },
  "language_info": {
   "codemirror_mode": {
    "name": "ipython",
    "version": 3
   },
   "file_extension": ".py",
   "mimetype": "text/x-python",
   "name": "python",
   "nbconvert_exporter": "python",
   "pygments_lexer": "ipython3",
   "version": "3.11.5"
  }
 },
 "nbformat": 4,
 "nbformat_minor": 2
}
